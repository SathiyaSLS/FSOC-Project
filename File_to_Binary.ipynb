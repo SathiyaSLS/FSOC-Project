{
 "cells": [
  {
   "cell_type": "markdown",
   "id": "70c5edf4",
   "metadata": {
    "cell_style": "center"
   },
   "source": [
    "# Code to convert Any file to binary of 0s and 1s"
   ]
  },
  {
   "cell_type": "code",
   "execution_count": 2,
   "id": "e07a03b8",
   "metadata": {
    "ExecuteTime": {
     "end_time": "2022-08-03T11:33:40.994030Z",
     "start_time": "2022-08-03T11:33:40.980990Z"
    },
    "code_folding": [],
    "run_control": {
     "marked": false
    },
    "scrolled": true
   },
   "outputs": [],
   "source": [
    "from general2 import *\n",
    "from hammingcode import *\n",
    "\n",
    "\n",
    "def readFile(dir):\n",
    "    with open(dir, \"rb\") as f:\n",
    "        data = f.read()\n",
    "    return data\n",
    "\n",
    "def flnameconv(flname):\n",
    "    flnamebin = ''\n",
    "    for i in flname:\n",
    "        flnamebin += format(ord(i), '08b')\n",
    "    flnamebin += '0011101011111111101010101111111100111010'  # separate file name with data by charactes :ÿªÿ:\n",
    "    return flnamebin\n",
    "\n",
    "def writeFile(dir,data):\n",
    "    with open(dir, \"w\") as f:\n",
    "        f.write(data)"
   ]
  },
  {
   "cell_type": "code",
   "execution_count": 3,
   "id": "b9a96671",
   "metadata": {
    "ExecuteTime": {
     "end_time": "2022-08-03T11:33:42.079790Z",
     "start_time": "2022-08-03T11:33:42.060837Z"
    },
    "run_control": {
     "marked": false
    }
   },
   "outputs": [],
   "source": [
    "def encoding(data, method):\n",
    "    enc_data_bin = ''\n",
    "    byte = ''\n",
    "    count = 0\n",
    "    \n",
    "    if (method == \"hamming\"):\n",
    "        for i in range(len(data) + 1):\n",
    "            if ((count != 0) & (count % 4 == 0)):\n",
    "                enc_data_bin += hammingEnc(byte)\n",
    "                byte = ''\n",
    "\n",
    "            if (i != len(data)):\n",
    "                byte += data[i]\n",
    "            else:\n",
    "                byte = ''\n",
    "            count += 1\n",
    "    \n",
    "    elif (method == \"repeat\"):\n",
    "        for i in data:\n",
    "            enc_data_bin += repeatEnc(i)\n",
    "    \n",
    "    elif (method == \"none\"):\n",
    "        enc_data_bin = data\n",
    "            \n",
    "    return enc_data_bin"
   ]
  },
  {
   "cell_type": "code",
   "execution_count": 4,
   "id": "f279a78a",
   "metadata": {
    "ExecuteTime": {
     "end_time": "2022-08-03T11:33:42.512631Z",
     "start_time": "2022-08-03T11:33:42.500695Z"
    },
    "run_control": {
     "marked": false
    },
    "scrolled": true
   },
   "outputs": [],
   "source": [
    "def file2Binary(dir, encode = \"repeat\", encode2 = \"none\"):\n",
    "    \n",
    "    ext_bin = ''\n",
    "    \n",
    "    src_data = readFile(dir)\n",
    "    src_data_bin = ''.join(format(i, '08b') for i in src_data)\n",
    "    \n",
    "#     print(src_data,src_data_bin, len(src_data), len(src_data_bin))\n",
    "    \n",
    "    # THIS BLOCK WILL ADD 128bits FOR EXTENSION AND THEN FILENAME TO IT SEPERATED BY :ÿªÿ:\n",
    "    ext = os.path.splitext(dir)[1]\n",
    "    for i in ext:\n",
    "        ext_bin += format(ord(i), '08b')\n",
    "    for i in range(16 - len(ext)):\n",
    "        ext_bin += '00000000'\n",
    "    filename_bin = flnameconv(os.path.split(os.path.splitext(dir)[0])[1])\n",
    "    src_data_bin = ext_bin + filename_bin + src_data_bin\n",
    "    \n",
    "    encoded_data = encoding(src_data_bin, encode)\n",
    "    second_encoded_data = encoding(encoded_data, encode2)\n",
    "    \n",
    "    enc_bin_dir = (os.path.dirname(dir) + \"/\" +os.path.split(os.path.splitext(dir)[0])[1] +\"_FEC_binary.txt\")\n",
    "    print(enc_bin_dir)\n",
    "    writeFile(enc_bin_dir,second_encoded_data)\n",
    "    \n",
    "    return second_encoded_data\n"
   ]
  },
  {
   "cell_type": "code",
   "execution_count": 7,
   "id": "d1cb610b",
   "metadata": {
    "ExecuteTime": {
     "end_time": "2022-08-03T11:30:19.137818Z",
     "start_time": "2022-08-03T11:30:07.950018Z"
    }
   },
   "outputs": [
    {
     "name": "stdout",
     "output_type": "stream",
     "text": [
      "D:/SLS/test_long_FEC_binary.txt\n"
     ]
    },
    {
     "data": {
      "text/plain": [
       "'001011100111010001111000011101000000000000000000000000000000000000000000000000000000000000000000000000000000000000000000000000000111010001100101011100110111010001011111011011000110111101101110011001110011101011111111101010101111111100111010011000010000110001011100000011000111010100001100000011010000101001000111011011110010000001110100011011110010000001001111011100000110010101110010011000010010000000111110001000000101000001110010011001010110011001100101011100100110010101101110011000110110010101110011111000101000000010100110001000000011111000100000010100110111100101110011011101000110010101101101001000000011111000100000010101010111001101100101001000000100010001001110010100110010110101101111011101100110010101110010001011010100100001010100010101000101000001010011001000000110100101101110011100110111010001100101011000010110010000100000011011110110011000100000011101000110100001100101001000000111001101111001011100110111010001100101011011011110001010000000100110010111001100100000010001000100111001010011001000000111001101100101011101000111010001101001011011100110011101110011001000000000110100001010011000010110111001100100001000000110001101101000011001010110001101101011001000000111100101101111011101010111001000100000010001000100111001010011001011010110111101110110011001010111001000101101010010000101010001010100010100000101001100100000011100000111001001101111011101100110100101100100011001010111001000101110'"
      ]
     },
     "execution_count": 7,
     "metadata": {},
     "output_type": "execute_result"
    }
   ],
   "source": [
    "file2Binary(\"D:/SLS/test_long.txt\",'none','none')"
   ]
  },
  {
   "cell_type": "code",
   "execution_count": null,
   "id": "b3a16a81",
   "metadata": {},
   "outputs": [],
   "source": []
  },
  {
   "cell_type": "code",
   "execution_count": null,
   "id": "067e974b",
   "metadata": {},
   "outputs": [],
   "source": []
  }
 ],
 "metadata": {
  "hide_input": false,
  "kernelspec": {
   "display_name": "Python 3 (ipykernel)",
   "language": "python",
   "name": "python3"
  },
  "language_info": {
   "codemirror_mode": {
    "name": "ipython",
    "version": 3
   },
   "file_extension": ".py",
   "mimetype": "text/x-python",
   "name": "python",
   "nbconvert_exporter": "python",
   "pygments_lexer": "ipython3",
   "version": "3.9.2"
  },
  "varInspector": {
   "cols": {
    "lenName": 16,
    "lenType": 16,
    "lenVar": 40
   },
   "kernels_config": {
    "python": {
     "delete_cmd_postfix": "",
     "delete_cmd_prefix": "del ",
     "library": "var_list.py",
     "varRefreshCmd": "print(var_dic_list())"
    },
    "r": {
     "delete_cmd_postfix": ") ",
     "delete_cmd_prefix": "rm(",
     "library": "var_list.r",
     "varRefreshCmd": "cat(var_dic_list()) "
    }
   },
   "types_to_exclude": [
    "module",
    "function",
    "builtin_function_or_method",
    "instance",
    "_Feature"
   ],
   "window_display": false
  }
 },
 "nbformat": 4,
 "nbformat_minor": 5
}
