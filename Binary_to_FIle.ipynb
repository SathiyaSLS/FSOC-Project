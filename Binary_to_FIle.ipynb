{
 "cells": [
  {
   "cell_type": "code",
   "execution_count": 26,
   "id": "652a2520",
   "metadata": {
    "ExecuteTime": {
     "end_time": "2022-08-03T11:28:01.674906Z",
     "start_time": "2022-08-03T11:28:01.661938Z"
    }
   },
   "outputs": [],
   "source": [
    "from general import *\n",
    "from hammingcode import *\n",
    "\n",
    "def readFile(dir):\n",
    "    with open(dir, \"r\") as f:\n",
    "        data = f.read()\n",
    "    return data\n",
    "\n",
    "def writeFile(dir, filename, ext, data):\n",
    "    try: \n",
    "        os.mkdir(os.path.join(os.path.dirname(dir), \"Received\"))\n",
    "    except OSError as error:\n",
    "        print(error)\n",
    "        error = ''\n",
    "    finally:\n",
    "        write_dir = os.path.dirname(dir)+\"/Received/\"+filename+ext\n",
    "        \n",
    "    with open(write_dir, \"wb\") as file:\n",
    "        print(write_dir)\n",
    "        file.write(bytes(data, 'latin1'))\n",
    "\n",
    "def bin2Data(bin_data):\n",
    "    data = ''\n",
    "    bit = ''\n",
    "    for i in range(len(bin_data)):\n",
    "        bit += bin_data[i]\n",
    "        if ((i+1)%8 == 0):\n",
    "            data += chr(int(bit, 2))\n",
    "            # data = \"\".join(chr(int(bit, 2)))\n",
    "            bit = ''\n",
    "    return data"
   ]
  },
  {
   "cell_type": "code",
   "execution_count": 7,
   "id": "779ffca9",
   "metadata": {
    "ExecuteTime": {
     "end_time": "2022-08-03T11:28:07.674213Z",
     "start_time": "2022-08-03T11:28:07.653827Z"
    }
   },
   "outputs": [],
   "source": [
    "def decoding(data, method):\n",
    "    rcv_bin_dec_data = ''\n",
    "    byte = ''\n",
    "    count = 0\n",
    "    \n",
    "    if (method==\"hamming\"):\n",
    "        for i in range(len(data) + 1):\n",
    "            if ((count != 0) & (count % 7 == 0)):\n",
    "                rcv_bin_dec_data += hammingDec(byte)\n",
    "                byte = ''\n",
    "\n",
    "            if (i != len(data)):\n",
    "                byte += data[i]\n",
    "            else:\n",
    "                byte = ''\n",
    "\n",
    "            count += 1\n",
    "            \n",
    "    if (method==\"repeat\"):\n",
    "        for i in data:\n",
    "            byte += i\n",
    "            count += 1\n",
    "            if count == 3:\n",
    "                rcv_bin_dec_data += repeatDec(byte)\n",
    "                byte = ''\n",
    "                count = 0\n",
    "    if (method==\"none\"):\n",
    "        rcv_bin_dec_data = data\n",
    "    \n",
    "    return rcv_bin_dec_data\n",
    "        "
   ]
  },
  {
   "cell_type": "code",
   "execution_count": 4,
   "id": "1fefe1be",
   "metadata": {
    "ExecuteTime": {
     "end_time": "2022-08-03T11:28:08.858456Z",
     "start_time": "2022-08-03T11:28:08.845209Z"
    }
   },
   "outputs": [],
   "source": [
    "def binary2File(dir, decode = 'none', decode2 = 'repeat'):\n",
    "    rcv_bin_data = readFile(dir)\n",
    "    \n",
    "    rcv_bin_data_dec2 = decoding(rcv_bin_data,decode2)\n",
    "    rcv_bin_data_dec = decoding(rcv_bin_data_dec2,decode)\n",
    "    \n",
    "    ext = rcv_bin_data_dec[0:128]\n",
    "    rcv_bin_data_dec = rcv_bin_data_dec[128:]\n",
    "    ext = bin2Data(ext).rstrip('\\x00')\n",
    "    rcv_data = bin2Data(rcv_bin_data_dec)\n",
    "    filename = rcv_data.split(':ÿªÿ:')[0]\n",
    "    rcv_data = rcv_data.split(':ÿªÿ:')[1]\n",
    "    \n",
    "    writeFile(dir, filename,ext, rcv_data)"
   ]
  },
  {
   "cell_type": "code",
   "execution_count": null,
   "id": "e823574f",
   "metadata": {
    "ExecuteTime": {
     "end_time": "2022-08-03T11:31:26.647481Z",
     "start_time": "2022-08-03T11:31:17.308605Z"
    }
   },
   "outputs": [],
   "source": [
    "# binary2File(\"D:/SLS/Received/testter_FEC_binary.txt\", \"hamming\", \"repeat\")\n",
    "\n"
   ]
  }
 ],
 "metadata": {
  "hide_input": false,
  "kernelspec": {
   "display_name": "Python 3 (ipykernel)",
   "language": "python",
   "name": "python3"
  },
  "language_info": {
   "codemirror_mode": {
    "name": "ipython",
    "version": 3
   },
   "file_extension": ".py",
   "mimetype": "text/x-python",
   "name": "python",
   "nbconvert_exporter": "python",
   "pygments_lexer": "ipython3",
   "version": "3.10.4"
  },
  "varInspector": {
   "cols": {
    "lenName": 16,
    "lenType": 16,
    "lenVar": 40
   },
   "kernels_config": {
    "python": {
     "delete_cmd_postfix": "",
     "delete_cmd_prefix": "del ",
     "library": "var_list.py",
     "varRefreshCmd": "print(var_dic_list())"
    },
    "r": {
     "delete_cmd_postfix": ") ",
     "delete_cmd_prefix": "rm(",
     "library": "var_list.r",
     "varRefreshCmd": "cat(var_dic_list()) "
    }
   },
   "types_to_exclude": [
    "module",
    "function",
    "builtin_function_or_method",
    "instance",
    "_Feature"
   ],
   "window_display": false
  }
 },
 "nbformat": 4,
 "nbformat_minor": 5
}
