{
 "cells": [
  {
   "cell_type": "code",
   "execution_count": 6,
   "id": "494ebed5",
   "metadata": {},
   "outputs": [],
   "source": [
    "def readfile(dir):\n",
    "    f = open(dir, \"rb\")\n",
    "    data = f.read()\n",
    "    f.close()\n",
    "    return data"
   ]
  },
  {
   "cell_type": "code",
   "execution_count": 7,
   "id": "05d4e2a8",
   "metadata": {},
   "outputs": [
    {
     "name": "stdout",
     "output_type": "stream",
     "text": [
      "Enter the Transmitted File(binary.txt) : D:/SLS/SLS.txt\n",
      "Enter the Received File(binary.txt) : D:/SLS/SLS Rx.txt\n"
     ]
    }
   ],
   "source": [
    "tx_dir = input(\"Enter the Transmitted File(binary.txt) : \")\n",
    "tx_data = readfile(tx_dir)\n",
    "rx_dir = input(\"Enter the Received File(binary.txt) : \")\n",
    "rx_data = readfile(rx_dir)"
   ]
  },
  {
   "cell_type": "code",
   "execution_count": 8,
   "id": "e95b85ca",
   "metadata": {},
   "outputs": [
    {
     "name": "stdout",
     "output_type": "stream",
     "text": [
      "975 975\n"
     ]
    }
   ],
   "source": [
    "print(len(tx_data),len(rx_data))"
   ]
  },
  {
   "cell_type": "code",
   "execution_count": 9,
   "id": "3edac0b2",
   "metadata": {},
   "outputs": [
    {
     "data": {
      "text/plain": [
       "0.0"
      ]
     },
     "execution_count": 9,
     "metadata": {},
     "output_type": "execute_result"
    }
   ],
   "source": [
    "error = 0\n",
    "for i in range(len(tx_data)):\n",
    "    if tx_data[i] != rx_data[i]:\n",
    "        print( tx_data[i], rx_data[i])\n",
    "        error += 1\n",
    "        \n",
    "ber = error/len(tx_data)\n",
    "ber"
   ]
  },
  {
   "cell_type": "code",
   "execution_count": 10,
   "id": "edf0888f",
   "metadata": {},
   "outputs": [
    {
     "data": {
      "text/plain": [
       "0"
      ]
     },
     "execution_count": 10,
     "metadata": {},
     "output_type": "execute_result"
    }
   ],
   "source": [
    "error"
   ]
  },
  {
   "cell_type": "code",
   "execution_count": null,
   "id": "c5083994",
   "metadata": {},
   "outputs": [],
   "source": []
  }
 ],
 "metadata": {
  "hide_input": false,
  "kernelspec": {
   "display_name": "Python 3 (ipykernel)",
   "language": "python",
   "name": "python3"
  },
  "language_info": {
   "codemirror_mode": {
    "name": "ipython",
    "version": 3
   },
   "file_extension": ".py",
   "mimetype": "text/x-python",
   "name": "python",
   "nbconvert_exporter": "python",
   "pygments_lexer": "ipython3",
   "version": "3.10.4"
  }
 },
 "nbformat": 4,
 "nbformat_minor": 5
}
