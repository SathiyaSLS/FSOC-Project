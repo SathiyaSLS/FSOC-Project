{
 "cells": [
  {
   "cell_type": "code",
   "execution_count": 1,
   "id": "04019169",
   "metadata": {
    "ExecuteTime": {
     "end_time": "2022-09-01T11:48:31.053695Z",
     "start_time": "2022-09-01T11:48:31.021835Z"
    }
   },
   "outputs": [],
   "source": [
    "import RPi.GPIO as GPIO\n",
    "import time"
   ]
  },
  {
   "cell_type": "markdown",
   "id": "4b9ef0d4",
   "metadata": {},
   "source": [
    "## RECEIVER PROGRAM"
   ]
  },
  {
   "cell_type": "code",
   "execution_count": null,
   "id": "fc6ff3a5",
   "metadata": {
    "ExecuteTime": {
     "end_time": "2022-07-20T11:12:26.456018Z",
     "start_time": "2022-07-20T11:12:01.200130Z"
    }
   },
   "outputs": [],
   "source": [
    "inpin = 2\n",
    "\n",
    "GPIO.setmode(GPIO.BCM)\n",
    "GPIO.setup(inpin, GPIO.IN)\n",
    "\n",
    "for i in range(50):\n",
    "    print(GPIO.input(inpin))\n",
    "    time.sleep(0.5)\n",
    "\n",
    "GPIO.cleanup()\n"
   ]
  },
  {
   "cell_type": "markdown",
   "id": "6d0b4924",
   "metadata": {},
   "source": [
    "## TRANSMITTER PROGRAM"
   ]
  },
  {
   "cell_type": "code",
   "execution_count": 11,
   "id": "e2679a86",
   "metadata": {
    "ExecuteTime": {
     "end_time": "2022-09-02T06:51:50.200810Z",
     "start_time": "2022-09-02T06:49:29.658460Z"
    }
   },
   "outputs": [
    {
     "ename": "KeyboardInterrupt",
     "evalue": "",
     "output_type": "error",
     "traceback": [
      "\u001b[0;31m---------------------------------------------------------------------------\u001b[0m",
      "\u001b[0;31mKeyboardInterrupt\u001b[0m                         Traceback (most recent call last)",
      "Input \u001b[0;32mIn [11]\u001b[0m, in \u001b[0;36m<cell line: 8>\u001b[0;34m()\u001b[0m\n\u001b[1;32m     10\u001b[0m     time\u001b[38;5;241m.\u001b[39msleep(t)\n\u001b[1;32m     11\u001b[0m     GPIO\u001b[38;5;241m.\u001b[39moutput(outpin, GPIO\u001b[38;5;241m.\u001b[39mLOW)\n\u001b[0;32m---> 12\u001b[0m     \u001b[43mtime\u001b[49m\u001b[38;5;241;43m.\u001b[39;49m\u001b[43msleep\u001b[49m\u001b[43m(\u001b[49m\u001b[43mt\u001b[49m\u001b[43m)\u001b[49m\n\u001b[1;32m     14\u001b[0m GPIO\u001b[38;5;241m.\u001b[39mcleanup()\n",
      "\u001b[0;31mKeyboardInterrupt\u001b[0m: "
     ]
    }
   ],
   "source": [
    "outpin = 2\n",
    "\n",
    "GPIO.setmode(GPIO.BCM)\n",
    "GPIO.setup(outpin, GPIO.OUT)\n",
    "\n",
    "t = 0.00994\n",
    "\n",
    "for i in range(10000000):\n",
    "    GPIO.output(outpin, GPIO.HIGH)\n",
    "    time.sleep(t)\n",
    "    GPIO.output(outpin, GPIO.LOW)\n",
    "    time.sleep(t)\n",
    "\n",
    "GPIO.cleanup()"
   ]
  },
  {
   "cell_type": "code",
   "execution_count": null,
   "id": "5e353728",
   "metadata": {},
   "outputs": [],
   "source": []
  }
 ],
 "metadata": {
  "kernelspec": {
   "display_name": "Python 3 (ipykernel)",
   "language": "python",
   "name": "python3"
  },
  "language_info": {
   "codemirror_mode": {
    "name": "ipython",
    "version": 3
   },
   "file_extension": ".py",
   "mimetype": "text/x-python",
   "name": "python",
   "nbconvert_exporter": "python",
   "pygments_lexer": "ipython3",
   "version": "3.9.2"
  },
  "varInspector": {
   "cols": {
    "lenName": 16,
    "lenType": 16,
    "lenVar": 40
   },
   "kernels_config": {
    "python": {
     "delete_cmd_postfix": "",
     "delete_cmd_prefix": "del ",
     "library": "var_list.py",
     "varRefreshCmd": "print(var_dic_list())"
    },
    "r": {
     "delete_cmd_postfix": ") ",
     "delete_cmd_prefix": "rm(",
     "library": "var_list.r",
     "varRefreshCmd": "cat(var_dic_list()) "
    }
   },
   "types_to_exclude": [
    "module",
    "function",
    "builtin_function_or_method",
    "instance",
    "_Feature"
   ],
   "window_display": false
  }
 },
 "nbformat": 4,
 "nbformat_minor": 5
}
