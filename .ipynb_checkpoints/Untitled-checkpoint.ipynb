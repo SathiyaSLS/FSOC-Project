{
 "cells": [
  {
   "cell_type": "code",
   "execution_count": 2,
   "id": "2d77b26c",
   "metadata": {},
   "outputs": [],
   "source": [
    "from general import *\n",
    "from hammingcode import *"
   ]
  },
  {
   "cell_type": "code",
   "execution_count": 18,
   "id": "a2f0cfab",
   "metadata": {},
   "outputs": [
    {
     "name": "stdout",
     "output_type": "stream",
     "text": [
      "010100110100000101010100010010000100100101011001010000010010000001001110010000010101001001000001010110010100000101001110010000010100111000100000010100110010000001001100\n"
     ]
    }
   ],
   "source": [
    "data = \"SATHIYA NARAYANAN S L\"\n",
    "\n",
    "data_binary = ''.join(format(ord(i), '08b') for i in data)\n",
    "\n",
    "print(data_binary)\n",
    "\n",
    "t = 0.005 #5ms\n",
    "\n",
    "initPins()\n",
    "for i in data_binary:\n",
    "    if (i == '0'):\n",
    "        low(t=t)\n",
    "    else:\n",
    "        high(t=t)\n",
    "cleanup()"
   ]
  },
  {
   "cell_type": "code",
   "execution_count": null,
   "id": "86b1f54f",
   "metadata": {},
   "outputs": [],
   "source": []
  },
  {
   "cell_type": "code",
   "execution_count": null,
   "id": "f1a62688",
   "metadata": {},
   "outputs": [],
   "source": []
  }
 ],
 "metadata": {
  "hide_input": false,
  "kernelspec": {
   "display_name": "Python 3 (ipykernel)",
   "language": "python",
   "name": "python3"
  },
  "language_info": {
   "codemirror_mode": {
    "name": "ipython",
    "version": 3
   },
   "file_extension": ".py",
   "mimetype": "text/x-python",
   "name": "python",
   "nbconvert_exporter": "python",
   "pygments_lexer": "ipython3",
   "version": "3.10.4"
  }
 },
 "nbformat": 4,
 "nbformat_minor": 5
}
