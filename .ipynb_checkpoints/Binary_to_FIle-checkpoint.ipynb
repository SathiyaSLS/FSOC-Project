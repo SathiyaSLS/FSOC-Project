{
 "cells": [
  {
   "cell_type": "code",
   "execution_count": 1,
   "id": "652a2520",
   "metadata": {},
   "outputs": [],
   "source": [
    "from general import *\n",
    "from hammingcode import *\n",
    "\n",
    "def readFile(dir):\n",
    "    f = open(dir, \"r\")\n",
    "    data = f.read()\n",
    "    f.close()\n",
    "    return data\n",
    "\n",
    "def writeFile(dir, filename, ext, data):\n",
    "    try: \n",
    "        os.mkdir(os.path.join(os.path.dirname(dir), \"Received\"))\n",
    "    except OSError as error:\n",
    "        error = ''\n",
    "    finally:\n",
    "        write_dir = os.path.dirname(dir)+\"\\\\Received\\\\\"+filename+ext\n",
    "        \n",
    "    file = open(write_dir, \"wb\")\n",
    "    file.write(bytes(data, 'latin1'))\n",
    "    file.close()\n",
    "\n",
    "def bin2Data(bin_data):\n",
    "    data = ''\n",
    "    bit = ''\n",
    "    for i in range(len(bin_data)):\n",
    "        bit += bin_data[i]\n",
    "        if ((i+1)%8 == 0):\n",
    "            data += chr(int(bit, 2))\n",
    "            bit = ''\n",
    "    return data"
   ]
  },
  {
   "cell_type": "code",
   "execution_count": 2,
   "id": "779ffca9",
   "metadata": {},
   "outputs": [],
   "source": [
    "def decoding(data, method):\n",
    "    rcv_bin_dec_data = ''\n",
    "    byte = ''\n",
    "    count = 0\n",
    "    \n",
    "    if (method==\"hamming\"):\n",
    "        for i in range(len(data) + 1):\n",
    "            if ((count != 0) & (count % 7 == 0)):\n",
    "                rcv_bin_dec_data += hammingDec(byte)\n",
    "                byte = ''\n",
    "\n",
    "            if (i != len(data)):\n",
    "                byte += data[i]\n",
    "            else:\n",
    "                byte = ''\n",
    "\n",
    "            count += 1\n",
    "            \n",
    "    if (method==\"repeat\"):\n",
    "        for i in data:\n",
    "            byte += i\n",
    "            count += 1\n",
    "            if count == 3:\n",
    "                rcv_bin_dec_data += repeatDec(byte)\n",
    "                byte = ''\n",
    "                count = 0\n",
    "    \n",
    "    return rcv_bin_dec_data\n",
    "        "
   ]
  },
  {
   "cell_type": "code",
   "execution_count": 3,
   "id": "1fefe1be",
   "metadata": {},
   "outputs": [],
   "source": [
    "def binary2File(dir, decode = 'none', decode2 = 'repeat'):\n",
    "    rcv_bin_data = readFile(dir)\n",
    "    \n",
    "    rcv_bin_data_dec2 = decoding(rcv_bin_data,decode2)\n",
    "    rcv_bin_data_dec = decoding(rcv_bin_data_dec2,decode)\n",
    "    \n",
    "    ext = rcv_bin_data_dec[0:128]\n",
    "    rcv_bin_data_dec = rcv_bin_data_dec[128:]\n",
    "    ext = bin2Data(ext).rstrip('\\x00')\n",
    "    rcv_data = bin2Data(rcv_bin_data_dec)\n",
    "    filename = rcv_data.split(':ÿªÿ:')[0]\n",
    "    rcv_data = rcv_data.split(':ÿªÿ:')[1]\n",
    "    \n",
    "    writeFile(dir, filename,ext, rcv_data)"
   ]
  },
  {
   "cell_type": "code",
   "execution_count": 11,
   "id": "e823574f",
   "metadata": {},
   "outputs": [],
   "source": [
    "binary2File(\"D:/SLS/Random_FEC_binary_error.txt\", \"hamming\", \"hamming\")"
   ]
  },
  {
   "cell_type": "code",
   "execution_count": null,
   "id": "ecab3855",
   "metadata": {},
   "outputs": [],
   "source": []
  }
 ],
 "metadata": {
  "kernelspec": {
   "display_name": "Python 3 (ipykernel)",
   "language": "python",
   "name": "python3"
  },
  "language_info": {
   "codemirror_mode": {
    "name": "ipython",
    "version": 3
   },
   "file_extension": ".py",
   "mimetype": "text/x-python",
   "name": "python",
   "nbconvert_exporter": "python",
   "pygments_lexer": "ipython3",
   "version": "3.10.4"
  },
  "varInspector": {
   "cols": {
    "lenName": 16,
    "lenType": 16,
    "lenVar": 40
   },
   "kernels_config": {
    "python": {
     "delete_cmd_postfix": "",
     "delete_cmd_prefix": "del ",
     "library": "var_list.py",
     "varRefreshCmd": "print(var_dic_list())"
    },
    "r": {
     "delete_cmd_postfix": ") ",
     "delete_cmd_prefix": "rm(",
     "library": "var_list.r",
     "varRefreshCmd": "cat(var_dic_list()) "
    }
   },
   "types_to_exclude": [
    "module",
    "function",
    "builtin_function_or_method",
    "instance",
    "_Feature"
   ],
   "window_display": false
  }
 },
 "nbformat": 4,
 "nbformat_minor": 5
}
