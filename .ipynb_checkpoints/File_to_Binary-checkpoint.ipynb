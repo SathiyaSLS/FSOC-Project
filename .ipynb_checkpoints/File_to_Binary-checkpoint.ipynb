{
 "cells": [
  {
   "cell_type": "markdown",
   "id": "70c5edf4",
   "metadata": {
    "cell_style": "center"
   },
   "source": [
    "# Code to convert Any file to binary of 0s and 1s"
   ]
  },
  {
   "cell_type": "code",
   "execution_count": 5,
   "id": "e07a03b8",
   "metadata": {
    "ExecuteTime": {
     "end_time": "2022-07-20T11:53:10.513217Z",
     "start_time": "2022-07-20T11:53:10.491039Z"
    },
    "code_folding": [],
    "run_control": {
     "marked": false
    },
    "scrolled": true
   },
   "outputs": [],
   "source": [
    "from general import *\n",
    "from hammingcode import *\n",
    "\n",
    "\n",
    "def readFile(dir):\n",
    "    f = open(dir, \"rb\")\n",
    "    data = f.read()\n",
    "    f.close()\n",
    "    return data\n",
    "\n",
    "def flnameconv(flname):\n",
    "    flnamebin = ''\n",
    "    for i in flname:\n",
    "        flnamebin += format(ord(i), '08b')\n",
    "    flnamebin += '0011101011111111101010101111111100111010'  # separate file name with data by charactes :ÿªÿ:\n",
    "    return flnamebin\n",
    "\n",
    "def writeFile(dir,data):\n",
    "    f = open(dir, \"w\")\n",
    "    f.write(data)\n",
    "    f.close()"
   ]
  },
  {
   "cell_type": "code",
   "execution_count": 2,
   "id": "b9a96671",
   "metadata": {
    "run_control": {
     "marked": false
    }
   },
   "outputs": [],
   "source": [
    "def encoding(data, method):\n",
    "    enc_data_bin = ''\n",
    "    byte = ''\n",
    "    count = 0\n",
    "    \n",
    "    if (method == \"hamming\"):\n",
    "        for i in range(len(data) + 1):\n",
    "            if ((count != 0) & (count % 4 == 0)):\n",
    "                enc_data_bin += hammingEnc(byte)\n",
    "                byte = ''\n",
    "\n",
    "            if (i != len(data)):\n",
    "                byte += data[i]\n",
    "            else:\n",
    "                byte = ''\n",
    "            count += 1\n",
    "    \n",
    "    elif (method == \"repeat\"):\n",
    "        for i in data:\n",
    "            enc_data_bin += repeatEnc(i)\n",
    "    \n",
    "    elif (method == \"none\"):\n",
    "        enc_data_bin = data\n",
    "            \n",
    "    return enc_data_bin"
   ]
  },
  {
   "cell_type": "code",
   "execution_count": 8,
   "id": "f279a78a",
   "metadata": {
    "ExecuteTime": {
     "end_time": "2022-07-20T11:53:26.007281Z",
     "start_time": "2022-07-20T11:53:14.457019Z"
    },
    "run_control": {
     "marked": false
    },
    "scrolled": true
   },
   "outputs": [],
   "source": [
    "def file2Binary(dir, encode = \"repeat\", encode2 = \"none\"):\n",
    "    \n",
    "    ext_bin = ''\n",
    "    \n",
    "    src_data = readFile(dir)\n",
    "    src_data_bin = ''.join(format(i, '08b') for i in src_data)\n",
    "    \n",
    "    # THIS BLOCK WILL ADD 128bits FOR EXTENSION AND THEN FILENAME TO IT SEPERATED BY :ÿªÿ:\n",
    "    ext = os.path.splitext(dir)[1]\n",
    "    for i in ext:\n",
    "        ext_bin += format(ord(i), '08b')\n",
    "    for i in range(16 - len(ext)):\n",
    "        ext_bin += '00000000'\n",
    "    filename_bin = flnameconv(os.path.split(os.path.splitext(dir)[0])[1])\n",
    "    src_data_bin = ext_bin + filename_bin + src_data_bin\n",
    "    \n",
    "    encoded_data = encoding(src_data_bin, encode)\n",
    "    second_encoded_data = encoding(encoded_data, encode2)\n",
    "    \n",
    "    enc_bin_dir = (os.path.dirname(dir) + \"\\\\\" +os.path.split(os.path.splitext(dir)[0])[1] +\"_FEC_binary.txt\")\n",
    "    writeFile(enc_bin_dir,second_encoded_data)\n",
    "    \n",
    "#     return second_encoded_data\n"
   ]
  },
  {
   "cell_type": "code",
   "execution_count": 9,
   "id": "d1cb610b",
   "metadata": {},
   "outputs": [],
   "source": [
    "file2Binary(\"D:/SLS/Random.txt\",'hamming','hamming')"
   ]
  }
 ],
 "metadata": {
  "kernelspec": {
   "display_name": "Python 3 (ipykernel)",
   "language": "python",
   "name": "python3"
  },
  "language_info": {
   "codemirror_mode": {
    "name": "ipython",
    "version": 3
   },
   "file_extension": ".py",
   "mimetype": "text/x-python",
   "name": "python",
   "nbconvert_exporter": "python",
   "pygments_lexer": "ipython3",
   "version": "3.10.4"
  },
  "varInspector": {
   "cols": {
    "lenName": 16,
    "lenType": 16,
    "lenVar": 40
   },
   "kernels_config": {
    "python": {
     "delete_cmd_postfix": "",
     "delete_cmd_prefix": "del ",
     "library": "var_list.py",
     "varRefreshCmd": "print(var_dic_list())"
    },
    "r": {
     "delete_cmd_postfix": ") ",
     "delete_cmd_prefix": "rm(",
     "library": "var_list.r",
     "varRefreshCmd": "cat(var_dic_list()) "
    }
   },
   "types_to_exclude": [
    "module",
    "function",
    "builtin_function_or_method",
    "instance",
    "_Feature"
   ],
   "window_display": false
  }
 },
 "nbformat": 4,
 "nbformat_minor": 5
}
