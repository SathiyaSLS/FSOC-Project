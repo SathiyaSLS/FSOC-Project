{
 "cells": [
  {
   "cell_type": "code",
   "execution_count": null,
   "id": "cf755bca",
   "metadata": {},
   "outputs": [],
   "source": [
    "from general import *\n",
    "from hammingcode import *"
   ]
  },
  {
   "cell_type": "code",
   "execution_count": null,
   "id": "e9f98a6e",
   "metadata": {},
   "outputs": [],
   "source": [
    "def bin2Data(bin_data):\n",
    "    data = ''\n",
    "    bit = ''\n",
    "    for i in range(len(bin_data)):\n",
    "        bit += bin_data[i]\n",
    "        if ((i+1)%8 == 0):\n",
    "            data += chr(int(bit, 2))\n",
    "            # data = \"\".join(chr(int(bit, 2)))\n",
    "            bit = ''\n",
    "    return data\n",
    "\n",
    "def writeFile_2(filename, ext, data):\n",
    "    write_dir = \"/home/rx_pi/Downloads/\"+filename+ext    \n",
    "    with open(write_dir, \"w\") as file:\n",
    "        print(write_dir)\n",
    "        print(\"#########################################\")\n",
    "        file.write(data)\n",
    "\n",
    "def binary2File_2(data):\n",
    "    ext = data[0:16]\n",
    "    data = data[16:]\n",
    "    ext = ext.rstrip('\\x00')\n",
    "    filename = data.split(':ÿªÿ:')[0]\n",
    "    data = data.split(':ÿªÿ:')[1]\n",
    "    print(\"#########################################\\nFile saved in :\")\n",
    "    writeFile_2(filename,ext, data)"
   ]
  },
  {
   "cell_type": "code",
   "execution_count": null,
   "id": "deccc606",
   "metadata": {},
   "outputs": [],
   "source": [
    "inpin = 4\n",
    "GPIO.setmode(GPIO.BCM)\n",
    "GPIO.setup(inpin, GPIO.IN)"
   ]
  },
  {
   "cell_type": "code",
   "execution_count": null,
   "id": "8b3525c7",
   "metadata": {},
   "outputs": [],
   "source": [
    "# datastring = \"000000111111110010111101111100010111001111111101010011011000010111010001101000011010010111100101100001001000000100111001100001011100100110000101111001011000010110111001100001011011100010000001010011001000000100110011111111001011110111110001011100111111110000000000000000000000000000000000000000000000000000000000000000000000000000000111111110010111101111100010111001111111101010011011000010111010001101000011010010111100101100001001000000100111001100001011100100110000101111001011000010110111001100001011011100010000001010011001000000100110011111111001011110111110001011100111111110000000000000000000000000000000000000000000111111110010111101111100010111001111111101001000011000010111000001110000011110010010000001000010011010010111001001110100011010000110010001100001011110011111111100101111011111000101110011111111000000\"\n",
    "\n",
    "data = bindata = rcv_data = marker_seq = ''\n",
    "previousbit = count = i = count0 = count1 = 0\n",
    "marker_detect_start = communication_start = communication_end = start = False\n",
    "communication_end = False\n",
    "print(\"RPi Start receiveing @ GPIO\"+str(inpin))\n",
    "\n",
    "t=0.05005\n",
    "sample = 1\n",
    "t=t/sample\n",
    "\n",
    "while True:\n",
    "#     for i in range(sample):\n",
    "#         b = GPIO.input(inpin)\n",
    "#         time.sleep(t)\n",
    "#         if (b == 0):\n",
    "#             count0 += 1\n",
    "#         else:\n",
    "#             count1 += 1\n",
    "#         if i == 4:\n",
    "#             if (count0 > count1):\n",
    "#                 bit = '0'\n",
    "#             else:\n",
    "#                 bit = '1'\n",
    "#             count0 = 0\n",
    "#             count1 = 0\n",
    "#     time.sleep(0.02)\n",
    "    bit = str(GPIO.input(inpin))\n",
    "    time.sleep(50/1000)\n",
    "    count += 1\n",
    "    bindata += bit\n",
    "    \n",
    "    # ----- THIS 'IF' BLOCK CHECKS THE START OF COMMUNICATION -----\n",
    "    if ( (bit == '1') & (not start) ):\n",
    "        start = True\n",
    "        bindata = '1'\n",
    "        count = 1\n",
    "        i = 1\n",
    "        \n",
    "    # ----- THIS 'IF' BLOCK GATHERS '8bit' TO CONVERT THEM TO ASCII EQUIVALENT -----\n",
    "    if (count == 8):\n",
    "        letter = bin2Data(bindata)\n",
    "        if (letter == \"ÿ\"):                                 # DETECTS STARTING LETTER OF MARKER 'ÿ'\n",
    "            marker_detect_start = True\n",
    "        if (marker_detect_start & (marker_seq in \"ÿ/|\\ÿ\")):\n",
    "            marker_seq += letter\n",
    "            if ((marker_seq == \"ÿ/|\\ÿ\")):                   # ONCE FULL MARKER IS DETECTED, IT WILL EITHER START OR END -\n",
    "                print('Marker Received')                                                                #- COMMUNICATION\n",
    "                if (not communication_start):\n",
    "                    communication_start = True\n",
    "                else:\n",
    "                    communication_start = False\n",
    "                    communication_end = True\n",
    "                marker_detect_start = False\n",
    "                marker_seq = letter = ''\n",
    "        else:\n",
    "            marker_detect_start = False\n",
    "            marker_seq = ''\n",
    "        if (communication_start & (not communication_end)): # ONCE COMMUNICATION STARTED, IT WILL ACCUMULATE LETTER BY LETTER\n",
    "            rcv_data += letter\n",
    "        if communication_end:                               # ONCE COMMUNICATION ENDS, IT SAVES DATA\n",
    "            rcv_data = rcv_data.rstrip('ÿ/|\\\\')\n",
    "            data01 = rcv_data\n",
    "            binary2File_2(rcv_data)\n",
    "            rcv_data=''\n",
    "            communication_end = False\n",
    "            start = False\n",
    "        print(bindata, letter, marker_detect_start, communication_start, marker_seq)\n",
    "        bindata = ''\n",
    "        count = 0\n",
    "\n",
    "rcv_data = bin2data(bindata)\n",
    "\n",
    "GPIO.cleanup()"
   ]
  },
  {
   "cell_type": "code",
   "execution_count": null,
   "id": "f519d08c",
   "metadata": {
    "scrolled": true
   },
   "outputs": [],
   "source": [
    "GPIO.cleanup()"
   ]
  },
  {
   "cell_type": "code",
   "execution_count": null,
   "id": "seasonal-medication",
   "metadata": {},
   "outputs": [],
   "source": [
    "t=0.1\n",
    "t=t/5\n",
    "print(t)"
   ]
  },
  {
   "cell_type": "code",
   "execution_count": null,
   "id": "broke-bankruptcy",
   "metadata": {},
   "outputs": [],
   "source": [
    "t = 0.05\n",
    "with open(\"temp.file\", \"a\") as f:\n",
    "    while True:\n",
    "        bit = str(GPIO.input(inpin))\n",
    "        time.sleep(t)\n",
    "        f.write(bit)"
   ]
  },
  {
   "cell_type": "code",
   "execution_count": null,
   "id": "attached-crowd",
   "metadata": {},
   "outputs": [],
   "source": [
    "from threading import Timer\n",
    "\n",
    "print(\"RPi Start receiveing @ GPIO\"+str(inpin))\n",
    "\n",
    "def detecting():\n",
    "    while True:\n",
    "        bit = str(GPIO.input(inpin))\n",
    "        Timer(2000,detecting).start()\n",
    "        print(bit)\n",
    "\n",
    "detecting()"
   ]
  },
  {
   "cell_type": "code",
   "execution_count": null,
   "id": "modified-assumption",
   "metadata": {},
   "outputs": [],
   "source": []
  }
 ],
 "metadata": {
  "hide_input": false,
  "kernelspec": {
   "display_name": "Python 3 (ipykernel)",
   "language": "python",
   "name": "python3"
  },
  "language_info": {
   "codemirror_mode": {
    "name": "ipython",
    "version": 3
   },
   "file_extension": ".py",
   "mimetype": "text/x-python",
   "name": "python",
   "nbconvert_exporter": "python",
   "pygments_lexer": "ipython3",
   "version": "3.10.4"
  }
 },
 "nbformat": 4,
 "nbformat_minor": 5
}
