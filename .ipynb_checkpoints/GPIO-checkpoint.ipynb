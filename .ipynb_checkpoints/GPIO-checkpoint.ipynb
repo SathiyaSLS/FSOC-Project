{
 "cells": [
  {
   "cell_type": "code",
   "execution_count": 1,
   "id": "04019169",
   "metadata": {
    "ExecuteTime": {
     "end_time": "2022-07-20T12:19:34.338129Z",
     "start_time": "2022-07-20T12:19:34.326124Z"
    }
   },
   "outputs": [
    {
     "ename": "ModuleNotFoundError",
     "evalue": "No module named 'RPi'",
     "output_type": "error",
     "traceback": [
      "\u001b[1;31m---------------------------------------------------------------------------\u001b[0m",
      "\u001b[1;31mModuleNotFoundError\u001b[0m                       Traceback (most recent call last)",
      "Input \u001b[1;32mIn [1]\u001b[0m, in \u001b[0;36m<cell line: 1>\u001b[1;34m()\u001b[0m\n\u001b[1;32m----> 1\u001b[0m \u001b[38;5;28;01mimport\u001b[39;00m \u001b[38;5;21;01mRPi\u001b[39;00m\u001b[38;5;21;01m.\u001b[39;00m\u001b[38;5;21;01mGPIO\u001b[39;00m \u001b[38;5;28;01mas\u001b[39;00m \u001b[38;5;21;01mGPIO\u001b[39;00m\n\u001b[0;32m      2\u001b[0m \u001b[38;5;28;01mimport\u001b[39;00m \u001b[38;5;21;01mtime\u001b[39;00m\n",
      "\u001b[1;31mModuleNotFoundError\u001b[0m: No module named 'RPi'"
     ]
    }
   ],
   "source": [
    "import RPi.GPIO as GPIO\n",
    "import time"
   ]
  },
  {
   "cell_type": "markdown",
   "id": "4b9ef0d4",
   "metadata": {},
   "source": [
    "## RECEIVER PROGRAM"
   ]
  },
  {
   "cell_type": "code",
   "execution_count": null,
   "id": "fc6ff3a5",
   "metadata": {
    "ExecuteTime": {
     "end_time": "2022-07-20T11:12:26.456018Z",
     "start_time": "2022-07-20T11:12:01.200130Z"
    }
   },
   "outputs": [],
   "source": [
    "inpin = 2\n",
    "\n",
    "GPIO.setmode(GPIO.BCM)\n",
    "GPIO.setup(inpin, GPIO.IN)\n",
    "\n",
    "for i in range(50):\n",
    "    print(GPIO.input(inpin))\n",
    "    time.sleep(0.5)\n",
    "\n",
    "GPIO.cleanup()\n"
   ]
  },
  {
   "cell_type": "markdown",
   "id": "6d0b4924",
   "metadata": {},
   "source": [
    "## TRANSMITTER PROGRAM"
   ]
  },
  {
   "cell_type": "code",
   "execution_count": 8,
   "id": "e2679a86",
   "metadata": {
    "ExecuteTime": {
     "end_time": "2022-07-20T12:21:47.911682Z",
     "start_time": "2022-07-20T12:20:57.833419Z"
    }
   },
   "outputs": [],
   "source": [
    "outpin = 2\n",
    "\n",
    "GPIO.setmode(GPIO.BCM)\n",
    "GPIO.setup(outpin, GPIO.OUT)\n",
    "\n",
    "for i in range(50):\n",
    "    GPIO.output(outpin, GPIO.HIGH)\n",
    "    time.sleep(0.5)\n",
    "    GPIO.output(outpin, GPIO.LOW)\n",
    "    time.sleep(0.5)\n",
    "\n",
    "GPIO.cleanup()"
   ]
  },
  {
   "cell_type": "code",
   "execution_count": null,
   "id": "dcd5e773",
   "metadata": {},
   "outputs": [],
   "source": []
  }
 ],
 "metadata": {
  "kernelspec": {
   "display_name": "Python 3 (ipykernel)",
   "language": "python",
   "name": "python3"
  },
  "language_info": {
   "codemirror_mode": {
    "name": "ipython",
    "version": 3
   },
   "file_extension": ".py",
   "mimetype": "text/x-python",
   "name": "python",
   "nbconvert_exporter": "python",
   "pygments_lexer": "ipython3",
   "version": "3.10.4"
  },
  "varInspector": {
   "cols": {
    "lenName": 16,
    "lenType": 16,
    "lenVar": 40
   },
   "kernels_config": {
    "python": {
     "delete_cmd_postfix": "",
     "delete_cmd_prefix": "del ",
     "library": "var_list.py",
     "varRefreshCmd": "print(var_dic_list())"
    },
    "r": {
     "delete_cmd_postfix": ") ",
     "delete_cmd_prefix": "rm(",
     "library": "var_list.r",
     "varRefreshCmd": "cat(var_dic_list()) "
    }
   },
   "types_to_exclude": [
    "module",
    "function",
    "builtin_function_or_method",
    "instance",
    "_Feature"
   ],
   "window_display": false
  }
 },
 "nbformat": 4,
 "nbformat_minor": 5
}
