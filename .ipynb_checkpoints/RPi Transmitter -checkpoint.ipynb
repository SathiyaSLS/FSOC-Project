{
 "cells": [
  {
   "cell_type": "code",
   "execution_count": 5,
   "id": "c694a82f",
   "metadata": {},
   "outputs": [],
   "source": [
    "import RPi.GPIO as GPIO\n",
    "import time\n",
    "from general import *\n",
    "from random import choice"
   ]
  },
  {
   "cell_type": "code",
   "execution_count": 6,
   "id": "da4c1993",
   "metadata": {},
   "outputs": [],
   "source": [
    "functions = [high, low]\n",
    "t = 0.1\n",
    "initPins()"
   ]
  },
  {
   "cell_type": "code",
   "execution_count": null,
   "id": "395fb80f",
   "metadata": {},
   "outputs": [],
   "source": [
    "while True:\n",
    "    choice(functions)(t = t)"
   ]
  },
  {
   "cell_type": "code",
   "execution_count": null,
   "id": "aa2b5f10",
   "metadata": {},
   "outputs": [],
   "source": [
    "while True:\n",
    "    high(t=120)"
   ]
  },
  {
   "cell_type": "code",
   "execution_count": null,
   "id": "66032490",
   "metadata": {},
   "outputs": [],
   "source": []
  }
 ],
 "metadata": {
  "hide_input": false,
  "kernelspec": {
   "display_name": "Python 3 (ipykernel)",
   "language": "python",
   "name": "python3"
  },
  "language_info": {
   "codemirror_mode": {
    "name": "ipython",
    "version": 3
   },
   "file_extension": ".py",
   "mimetype": "text/x-python",
   "name": "python",
   "nbconvert_exporter": "python",
   "pygments_lexer": "ipython3",
   "version": "3.10.4"
  }
 },
 "nbformat": 4,
 "nbformat_minor": 5
}
