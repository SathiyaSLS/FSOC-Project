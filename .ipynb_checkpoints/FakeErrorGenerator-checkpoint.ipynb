{
 "cells": [
  {
   "cell_type": "code",
   "execution_count": 1,
   "id": "ad5491d4",
   "metadata": {},
   "outputs": [],
   "source": [
    "import os\n",
    "import random"
   ]
  },
  {
   "cell_type": "code",
   "execution_count": 2,
   "id": "87d465f2",
   "metadata": {
    "scrolled": true
   },
   "outputs": [
    {
     "name": "stdout",
     "output_type": "stream",
     "text": [
      "Tx Binary File Directory : D:/SLS/Random_FEC_binary.txt\n"
     ]
    }
   ],
   "source": [
    "fileTx_dir = input(\"Tx Binary File Directory : \")\n",
    "fileTx = open(fileTx_dir, \"r\")\n",
    "Tx_data = fileTx.read()\n",
    "fileTx.close()"
   ]
  },
  {
   "cell_type": "code",
   "execution_count": 3,
   "id": "963bb55d",
   "metadata": {},
   "outputs": [],
   "source": [
    "Rx_data = ''\n",
    "count = int(0)\n",
    "for i in Tx_data:\n",
    "\n",
    "    if ( count % random.randrange(2,240,1)  == 0):\n",
    "       if(i == '0'):\n",
    "           Rx_data += '1'\n",
    "       else:\n",
    "           Rx_data += '0'\n",
    "    else:\n",
    "       Rx_data += i\n",
    "    \n",
    "    #Rx_data += str(random.randint(0,1))\n",
    "    \n",
    "    count += 1"
   ]
  },
  {
   "cell_type": "code",
   "execution_count": 4,
   "id": "cccdea7a",
   "metadata": {},
   "outputs": [],
   "source": [
    "fileRx_dir = ( os.path.dirname(fileTx_dir)+\"\\\\\"+os.path.split(os.path.splitext(fileTx_dir)[0])[1]+\"_error.txt\" )\n",
    "fileRx = open(fileRx_dir, \"w\")\n",
    "fileRx.write(Rx_data)\n",
    "fileRx.close()"
   ]
  },
  {
   "cell_type": "code",
   "execution_count": 5,
   "id": "fa688c06",
   "metadata": {
    "scrolled": true
   },
   "outputs": [
    {
     "data": {
      "text/plain": [
       "(21888, 21888, 21888)"
      ]
     },
     "execution_count": 5,
     "metadata": {},
     "output_type": "execute_result"
    }
   ],
   "source": [
    "len(Tx_data), len(Rx_data), count"
   ]
  }
 ],
 "metadata": {
  "kernelspec": {
   "display_name": "Python 3 (ipykernel)",
   "language": "python",
   "name": "python3"
  },
  "language_info": {
   "codemirror_mode": {
    "name": "ipython",
    "version": 3
   },
   "file_extension": ".py",
   "mimetype": "text/x-python",
   "name": "python",
   "nbconvert_exporter": "python",
   "pygments_lexer": "ipython3",
   "version": "3.10.4"
  }
 },
 "nbformat": 4,
 "nbformat_minor": 5
}
