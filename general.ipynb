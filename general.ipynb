{
 "cells": [
  {
   "cell_type": "code",
   "execution_count": null,
   "id": "f008cb9d",
   "metadata": {},
   "outputs": [],
   "source": [
    "import os\n",
    "import time\n",
    "from concurrent.futures import ThreadPoolExecutor,ProcessPoolExecutor\n",
    "# import RPi.GPIO as GPIO"
   ]
  },
  {
   "cell_type": "code",
   "execution_count": null,
   "id": "b3530a3b",
   "metadata": {},
   "outputs": [],
   "source": [
    "def initPins(op = 14, ip = 15):\n",
    "    GPIO.setmode(GPIO.BCM)\n",
    "    GPIO.setup(ip, GPIO.IN)\n",
    "    GPIO.setup(op, GPIO.OUT)\n",
    "    \n",
    "def cleanup():\n",
    "    initPins()\n",
    "    GPIO.cleanup()"
   ]
  },
  {
   "cell_type": "code",
   "execution_count": null,
   "id": "7525e4db",
   "metadata": {},
   "outputs": [],
   "source": [
    "def high(op = 2, t = 0.5):\n",
    "    GPIO.output(op, GPIO.HIGH)\n",
    "    time.sleep(t)"
   ]
  },
  {
   "cell_type": "code",
   "execution_count": null,
   "id": "1e6d0fac",
   "metadata": {},
   "outputs": [],
   "source": [
    "def low(op = 2, t = 0.5):\n",
    "    GPIO.output(op, GPIO.LOW)\n",
    "    time.sleep(t)"
   ]
  },
  {
   "cell_type": "code",
   "execution_count": null,
   "id": "976548b9",
   "metadata": {},
   "outputs": [],
   "source": [
    "def read():\n",
    "    pass"
   ]
  },
  {
   "cell_type": "code",
   "execution_count": null,
   "id": "a2947b42",
   "metadata": {},
   "outputs": [],
   "source": [
    "initPins()\n",
    "high()"
   ]
  },
  {
   "cell_type": "code",
   "execution_count": null,
   "id": "2c050564",
   "metadata": {},
   "outputs": [],
   "source": [
    "low()\n",
    "cleanup()"
   ]
  },
  {
   "cell_type": "code",
   "execution_count": null,
   "id": "1ba03731",
   "metadata": {},
   "outputs": [],
   "source": []
  }
 ],
 "metadata": {
  "hide_input": false,
  "kernelspec": {
   "display_name": "Python 3",
   "language": "python",
   "name": "python3"
  },
  "language_info": {
   "codemirror_mode": {
    "name": "ipython",
    "version": 3
   },
   "file_extension": ".py",
   "mimetype": "text/x-python",
   "name": "python",
   "nbconvert_exporter": "python",
   "pygments_lexer": "ipython3",
   "version": "3.9.2"
  }
 },
 "nbformat": 4,
 "nbformat_minor": 5
}
