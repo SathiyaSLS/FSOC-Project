{
 "cells": [
  {
   "cell_type": "markdown",
   "id": "5733b91a",
   "metadata": {},
   "source": [
    "# Forward Error Correction Codes\n",
    "### Miscellaneous Functions"
   ]
  },
  {
   "cell_type": "code",
   "execution_count": null,
   "id": "9cb80237",
   "metadata": {},
   "outputs": [],
   "source": [
    "def evenParityGen(p):\n",
    "    if (p % 2 == 0):\n",
    "        return \"0\"\n",
    "    else:\n",
    "        return \"1\""
   ]
  },
  {
   "cell_type": "code",
   "execution_count": null,
   "id": "2a8fa5c5",
   "metadata": {},
   "outputs": [],
   "source": [
    "def evenParityChk(a, b, c, d):\n",
    "    if ((int(a) + int(b) + int(c) + int(d)) % 2) == 0:\n",
    "        return \"0\"\n",
    "    else:\n",
    "        return \"1\""
   ]
  },
  {
   "cell_type": "code",
   "execution_count": null,
   "id": "b386d524",
   "metadata": {},
   "outputs": [],
   "source": [
    "def bitCheck(data1, data2):\n",
    "    error = 0\n",
    "    if len(data1) == len(data2):\n",
    "        for i in range(len(data1)):\n",
    "            if data1[i] != data2[i]:\n",
    "                error += 1\n",
    "        return error\n",
    "    else:\n",
    "        raise ValueError(\"Two arguments ({},{}) must be same length\".format(\n",
    "            data1, data2))"
   ]
  },
  {
   "cell_type": "markdown",
   "id": "c3d608ac",
   "metadata": {},
   "source": [
    "## Hamming Error Correction Code"
   ]
  },
  {
   "cell_type": "code",
   "execution_count": null,
   "id": "d5745661",
   "metadata": {},
   "outputs": [],
   "source": [
    "#AB0C123\n",
    "def hammingEnc(data):\n",
    "    if len(data) == 4:\n",
    "        pA = int(data[0]) + int(data[1]) + int(data[3])\n",
    "        pA = evenParityGen(pA)\n",
    "        pB = int(data[0]) + int(data[2]) + int(data[3])\n",
    "        pB = evenParityGen(pB)\n",
    "        pC = int(data[1]) + int(data[2]) + int(data[3])\n",
    "        pC = evenParityGen(pC)\n",
    "    else:\n",
    "        raise ValueError(\"Data '{}' Should be bitlength of 4\".format(data))\n",
    "    data = pA + pB + data[0] + pC + data[1] + data[2] + data[3]\n",
    "    return data"
   ]
  },
  {
   "cell_type": "code",
   "execution_count": null,
   "id": "2e54d502",
   "metadata": {},
   "outputs": [],
   "source": [
    "#AB0C123\n",
    "#0123456\n",
    "def hammingDec(data):\n",
    "    pos = {  #Dictionary for error numbers. (Numbers are one less than actual because of array indexing)\n",
    "        \"000\": None,\n",
    "        \"001\": 0,\n",
    "        \"010\": 1,\n",
    "        \"011\": 2,\n",
    "        \"100\": 3,\n",
    "        \"101\": 4,\n",
    "        \"110\": 5,\n",
    "        \"111\": 6\n",
    "    }\n",
    "    if len(data) == 7:\n",
    "        eC = evenParityChk(data[0], data[2], data[4], data[6])\n",
    "        eB = evenParityChk(data[1], data[2], data[5], data[6])\n",
    "        eA = evenParityChk(data[3], data[4], data[5], data[6])\n",
    "        pstn = pos[eA + eB + eC]\n",
    "        if pstn != None:\n",
    "            if (data[pstn] == \"0\"):\n",
    "                data = data[:(pstn)] + \"1\" + data[(pstn + 1):]\n",
    "            else:\n",
    "                data = data[:(pstn)] + \"0\" + data[(pstn + 1):]\n",
    "        newdata = data[2] + data[4] + data[5] + data[6]\n",
    "    else:\n",
    "        raise ValueError(\"Data {} should have bitlength of 7\".format(data))\n",
    "    if bitCheck(data, hammingEnc(newdata)) <= 1:\n",
    "        return newdata\n",
    "    else:\n",
    "        return \"XXXX\""
   ]
  },
  {
   "cell_type": "markdown",
   "id": "1961a9a5",
   "metadata": {},
   "source": [
    "#### Hamming Code - For Full Data"
   ]
  },
  {
   "cell_type": "code",
   "execution_count": null,
   "id": "0798cc38",
   "metadata": {},
   "outputs": [],
   "source": [
    "def hamEnc(data):\n",
    "    rtndata = ''\n",
    "    byte = ''\n",
    "    count = 0\n",
    "    for i in range(len(data) + 1):\n",
    "        if ((count != 0) & (count % 4 == 0)):\n",
    "            rtndata += hammingEnc(byte)\n",
    "            byte = ''\n",
    "\n",
    "        if (i != len(data)):\n",
    "            byte += data[i]\n",
    "        else:\n",
    "            byte = ''\n",
    "\n",
    "        count += 1\n",
    "    return rtndata"
   ]
  },
  {
   "cell_type": "code",
   "execution_count": null,
   "id": "f95275c4",
   "metadata": {},
   "outputs": [],
   "source": [
    "def hamDec(data):\n",
    "    rtndata = ''\n",
    "    byte = ''\n",
    "    count = 0\n",
    "    for i in range(len(data) + 1):\n",
    "        if ((count != 0) & (count % 7 == 0)):\n",
    "            rtndata += hammingDec(byte)\n",
    "            byte = ''\n",
    "\n",
    "        if (i != len(data)):\n",
    "            byte += data[i]\n",
    "        else:\n",
    "            byte = ''\n",
    "\n",
    "        count += 1\n",
    "    return rtndata"
   ]
  },
  {
   "cell_type": "markdown",
   "id": "42cf96ae",
   "metadata": {},
   "source": [
    "## Repeative Error Correction Code"
   ]
  },
  {
   "cell_type": "code",
   "execution_count": null,
   "id": "068faa03",
   "metadata": {},
   "outputs": [],
   "source": [
    "def repeatEnc(data,i = 3):\n",
    "    data = i*data\n",
    "    return data"
   ]
  },
  {
   "cell_type": "code",
   "execution_count": null,
   "id": "eb5bd457",
   "metadata": {},
   "outputs": [],
   "source": [
    "def repeatDec(data):\n",
    "    count0 = 0\n",
    "    count1 = 0\n",
    "    for i in data:\n",
    "        if i == \"0\":\n",
    "            count0 += 1\n",
    "        else:\n",
    "            count1 += 1\n",
    "    if (count0 > count1):\n",
    "        return \"0\"\n",
    "    else:\n",
    "        return \"1\""
   ]
  }
 ],
 "metadata": {
  "kernelspec": {
   "display_name": "Python 3 (ipykernel)",
   "language": "python",
   "name": "python3"
  },
  "language_info": {
   "codemirror_mode": {
    "name": "ipython",
    "version": 3
   },
   "file_extension": ".py",
   "mimetype": "text/x-python",
   "name": "python",
   "nbconvert_exporter": "python",
   "pygments_lexer": "ipython3",
   "version": "3.10.4"
  }
 },
 "nbformat": 4,
 "nbformat_minor": 5
}
